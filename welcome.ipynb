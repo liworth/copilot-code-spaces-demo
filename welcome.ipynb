{
 "cells": [
  {
   "cell_type": "code",
   "execution_count": 3,
   "metadata": {},
   "outputs": [
    {
     "name": "stdout",
     "output_type": "stream",
     "text": [
      "Welcome to Jupyter Notebooks in VS Code!\n"
     ]
    }
   ],
   "source": [
    "msg = \"Welcome to Jupyter Notebooks in VS Code!\"\n",
    "print(msg)"
   ]
  },
  {
   "cell_type": "markdown",
   "metadata": {},
   "source": [
    "# Welcome to Jupyter Notebooks in VS Code!"
   ]
  },
  {
   "cell_type": "code",
   "execution_count": 5,
   "metadata": {},
   "outputs": [
    {
     "name": "stdout",
     "output_type": "stream",
     "text": [
      "Welcome to Notebooks in VS Code!\n",
      "Hello World!\n",
      "This is a second variable\n"
     ]
    }
   ],
   "source": [
    "msg = \"Welcome to Notebooks in VS Code!\"\n",
    "msg1 = \"This is a second variable\"\n",
    "print(msg)\n",
    "msg = \"Hello World!\"\n",
    "print(msg)\n",
    "print(msg1)\n"
   ]
  }
 ],
 "metadata": {
  "kernelspec": {
   "display_name": "Python 3",
   "language": "python",
   "name": "python3"
  },
  "language_info": {
   "codemirror_mode": {
    "name": "ipython",
    "version": 3
   },
   "file_extension": ".py",
   "mimetype": "text/x-python",
   "name": "python",
   "nbconvert_exporter": "python",
   "pygments_lexer": "ipython3",
   "version": "3.11.4"
  },
  "orig_nbformat": 4
 },
 "nbformat": 4,
 "nbformat_minor": 2
}
